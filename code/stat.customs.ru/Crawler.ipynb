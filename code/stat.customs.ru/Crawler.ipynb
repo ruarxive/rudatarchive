{
 "cells": [
  {
   "cell_type": "code",
   "execution_count": 37,
   "id": "621e81ce",
   "metadata": {
    "ExecuteTime": {
     "end_time": "2022-04-11T10:10:31.425436Z",
     "start_time": "2022-04-11T10:10:31.421459Z"
    }
   },
   "outputs": [],
   "source": [
    "import requests\n",
    "import pandas as pd\n",
    "import json\n",
    "from pandas.tseries.offsets import MonthEnd"
   ]
  },
  {
   "cell_type": "code",
   "execution_count": 79,
   "id": "dcbac8d0",
   "metadata": {
    "ExecuteTime": {
     "end_time": "2022-04-11T10:37:31.173120Z",
     "start_time": "2022-04-11T10:37:31.168617Z"
    }
   },
   "outputs": [],
   "source": [
    "headers = {\n",
    "    'User-Agent': 'Mozilla/5.0 (Macintosh; Intel Mac OS X 10_15_7) AppleWebKit/537.36 (KHTML, like Gecko) Chrome/100.0.4896.75 Safari/537.36',\n",
    "    'Content-Type': 'application/json'\n",
    "}"
   ]
  },
  {
   "cell_type": "code",
   "execution_count": 80,
   "id": "3bebcc19",
   "metadata": {
    "ExecuteTime": {
     "end_time": "2022-04-11T10:37:34.125703Z",
     "start_time": "2022-04-11T10:37:33.961857Z"
    }
   },
   "outputs": [],
   "source": [
    "!mkdir data"
   ]
  },
  {
   "cell_type": "code",
   "execution_count": 125,
   "id": "7c07ba96",
   "metadata": {
    "ExecuteTime": {
     "end_time": "2022-04-11T10:56:16.929701Z",
     "start_time": "2022-04-11T10:56:16.868589Z"
    }
   },
   "outputs": [
    {
     "data": {
      "text/html": [
       "<div>\n",
       "<style scoped>\n",
       "    .dataframe tbody tr th:only-of-type {\n",
       "        vertical-align: middle;\n",
       "    }\n",
       "\n",
       "    .dataframe tbody tr th {\n",
       "        vertical-align: top;\n",
       "    }\n",
       "\n",
       "    .dataframe thead th {\n",
       "        text-align: right;\n",
       "    }\n",
       "</style>\n",
       "<table border=\"1\" class=\"dataframe\">\n",
       "  <thead>\n",
       "    <tr style=\"text-align: right;\">\n",
       "      <th></th>\n",
       "      <th>edizm</th>\n",
       "      <th>metric_name</th>\n",
       "    </tr>\n",
       "  </thead>\n",
       "  <tbody>\n",
       "    <tr>\n",
       "      <th>0</th>\n",
       "      <td>006</td>\n",
       "      <td>МЕТР</td>\n",
       "    </tr>\n",
       "    <tr>\n",
       "      <th>1</th>\n",
       "      <td>055</td>\n",
       "      <td>КВАДРАТНЫЙ МЕТР</td>\n",
       "    </tr>\n",
       "    <tr>\n",
       "      <th>2</th>\n",
       "      <td>166</td>\n",
       "      <td>КИЛОГРАММ</td>\n",
       "    </tr>\n",
       "    <tr>\n",
       "      <th>3</th>\n",
       "      <td>163</td>\n",
       "      <td>ГРАММ</td>\n",
       "    </tr>\n",
       "    <tr>\n",
       "      <th>4</th>\n",
       "      <td>113</td>\n",
       "      <td>КУБИЧЕСКИЙ МЕТР</td>\n",
       "    </tr>\n",
       "  </tbody>\n",
       "</table>\n",
       "</div>"
      ],
      "text/plain": [
       "  edizm      metric_name\n",
       "0   006             МЕТР\n",
       "1   055  КВАДРАТНЫЙ МЕТР\n",
       "2   166        КИЛОГРАММ\n",
       "3   163            ГРАММ\n",
       "4   113  КУБИЧЕСКИЙ МЕТР"
      ]
     },
     "execution_count": 125,
     "metadata": {},
     "output_type": "execute_result"
    }
   ],
   "source": [
    "with open(\"data/metrics.csv\", \"wb\") as out:\n",
    "    out.write(requests.get(\"http://stat.customs.gov.ru/api/Dictionary/UnloadDictionary?code=NSIEI&type=Csv\", \n",
    "                           headers=headers).content)\n",
    "metrics = pd.read_csv(\"data/metrics.csv\", sep=\"\\t\", dtype=str).rename(columns={'KOD':'edizm', 'NAME': 'metric_name'}).drop(\"SHORT_NAME\", axis=1)\n",
    "metrics.head()"
   ]
  },
  {
   "cell_type": "code",
   "execution_count": 117,
   "id": "15adfcda",
   "metadata": {
    "ExecuteTime": {
     "end_time": "2022-04-11T10:52:58.745107Z",
     "start_time": "2022-04-11T10:52:57.340417Z"
    }
   },
   "outputs": [
    {
     "data": {
      "text/html": [
       "<div>\n",
       "<style scoped>\n",
       "    .dataframe tbody tr th:only-of-type {\n",
       "        vertical-align: middle;\n",
       "    }\n",
       "\n",
       "    .dataframe tbody tr th {\n",
       "        vertical-align: top;\n",
       "    }\n",
       "\n",
       "    .dataframe thead th {\n",
       "        text-align: right;\n",
       "    }\n",
       "</style>\n",
       "<table border=\"1\" class=\"dataframe\">\n",
       "  <thead>\n",
       "    <tr style=\"text-align: right;\">\n",
       "      <th></th>\n",
       "      <th>tnved</th>\n",
       "      <th>tovar_name</th>\n",
       "    </tr>\n",
       "  </thead>\n",
       "  <tbody>\n",
       "    <tr>\n",
       "      <th>0</th>\n",
       "      <td>01</td>\n",
       "      <td>ШТ-ЖИВЫЕ ЖИВОТНЫЕ</td>\n",
       "    </tr>\n",
       "    <tr>\n",
       "      <th>1</th>\n",
       "      <td>0101</td>\n",
       "      <td>ШТ-ЛОШАДИ, ОСЛЫ, МУЛЫ И ЛОШАКИ ЖИВЫЕ</td>\n",
       "    </tr>\n",
       "    <tr>\n",
       "      <th>2</th>\n",
       "      <td>010121</td>\n",
       "      <td>ШТ-ЛОШАДИ ЖИВЫЕ: ЧИСТОПОРОДНЫЕ ПЛЕМЕННЫЕ ЖИВОТНЫЕ</td>\n",
       "    </tr>\n",
       "    <tr>\n",
       "      <th>3</th>\n",
       "      <td>01012100</td>\n",
       "      <td>ШТ-ЛОШАДИ ЖИВЫЕ: ЧИСТОПОРОДНЫЕ ПЛЕМЕННЫЕ ЖИВОТНЫЕ</td>\n",
       "    </tr>\n",
       "    <tr>\n",
       "      <th>4</th>\n",
       "      <td>0101210000</td>\n",
       "      <td>ШТ-ЛОШАДИ ЖИВЫЕ: ЧИСТОПОРОДНЫЕ ПЛЕМЕННЫЕ ЖИВОТНЫЕ</td>\n",
       "    </tr>\n",
       "  </tbody>\n",
       "</table>\n",
       "</div>"
      ],
      "text/plain": [
       "        tnved                                         tovar_name\n",
       "0          01                                  ШТ-ЖИВЫЕ ЖИВОТНЫЕ\n",
       "1        0101               ШТ-ЛОШАДИ, ОСЛЫ, МУЛЫ И ЛОШАКИ ЖИВЫЕ\n",
       "2      010121  ШТ-ЛОШАДИ ЖИВЫЕ: ЧИСТОПОРОДНЫЕ ПЛЕМЕННЫЕ ЖИВОТНЫЕ\n",
       "3    01012100  ШТ-ЛОШАДИ ЖИВЫЕ: ЧИСТОПОРОДНЫЕ ПЛЕМЕННЫЕ ЖИВОТНЫЕ\n",
       "4  0101210000  ШТ-ЛОШАДИ ЖИВЫЕ: ЧИСТОПОРОДНЫЕ ПЛЕМЕННЫЕ ЖИВОТНЫЕ"
      ]
     },
     "execution_count": 117,
     "metadata": {},
     "output_type": "execute_result"
    }
   ],
   "source": [
    "with open(\"data/NSITNVED.csv\", \"wb\") as out:\n",
    "    out.write(requests.get(\"http://stat.customs.gov.ru/api/Dictionary/UnloadDictionary?code=NSITNVED&type=Csv\", \n",
    "                           headers=headers).content)\n",
    "nsitnved = pd.read_csv(\"data/NSITNVED.csv\", sep=\"\\t\").rename(columns={'KOD':'tnved', 'NAME': 'tovar_name'})\n",
    "nsitnved.head()"
   ]
  },
  {
   "cell_type": "code",
   "execution_count": 116,
   "id": "ee227b3f",
   "metadata": {
    "ExecuteTime": {
     "end_time": "2022-04-11T10:52:57.338087Z",
     "start_time": "2022-04-11T10:52:37.917095Z"
    }
   },
   "outputs": [
    {
     "name": "stdout",
     "output_type": "stream",
     "text": [
      "2019-01-01 2019-01-31\n",
      "2019-02-01 2019-02-28\n",
      "2019-03-01 2019-03-31\n",
      "2019-04-01 2019-04-30\n",
      "2019-05-01 2019-05-31\n",
      "2019-06-01 2019-06-30\n",
      "2019-07-01 2019-07-31\n",
      "2019-08-01 2019-08-31\n",
      "2019-09-01 2019-09-30\n",
      "2019-10-01 2019-10-31\n",
      "2019-11-01 2019-11-30\n",
      "2019-12-01 2019-12-31\n",
      "2020-01-01 2020-01-31\n",
      "2020-02-01 2020-02-29\n",
      "2020-03-01 2020-03-31\n",
      "2020-04-01 2020-04-30\n",
      "2020-05-01 2020-05-31\n",
      "2020-06-01 2020-06-30\n",
      "2020-07-01 2020-07-31\n",
      "2020-08-01 2020-08-31\n",
      "2020-09-01 2020-09-30\n",
      "2020-10-01 2020-10-31\n",
      "2020-11-01 2020-11-30\n",
      "2020-12-01 2020-12-31\n",
      "2021-01-01 2021-01-31\n",
      "2021-02-01 2021-02-28\n",
      "2021-03-01 2021-03-31\n",
      "2021-04-01 2021-04-30\n",
      "2021-05-01 2021-05-31\n",
      "2021-06-01 2021-06-30\n",
      "2021-07-01 2021-07-31\n",
      "2021-08-01 2021-08-31\n",
      "2021-09-01 2021-09-30\n",
      "2021-10-01 2021-10-31\n",
      "2021-11-01 2021-11-30\n",
      "2021-12-01 2021-12-31\n",
      "2022-01-01 2022-01-31\n",
      "2022-02-01 2022-02-28\n"
     ]
    }
   ],
   "source": [
    "dfs = []\n",
    "# перербираем все периоды, за которые доступны данные\n",
    "for p in pd.period_range(start='2019-01',end='2022-02', freq='M'):\n",
    "    start = \"%04d-%02d-01\" % (p.year, p.month)\n",
    "    end = \"%04d-%02d-%02d\" % (p.year, p.month, p.day)\n",
    "    print(start, end)\n",
    "\n",
    "    res = requests.post(\"http://stat.customs.gov.ru/api/DataAnalysis/UnloadData\", headers=headers, \n",
    "                        data=json.dumps({\n",
    "                            \"exportType\":\"Csv\",\n",
    "                            \"tnved\":[],\n",
    "                            \"tnvedLevel\":2,\n",
    "                            \"federalDistricts\":[],\n",
    "                            \"subjects\":[],\n",
    "                            \"direction\":\"\",\n",
    "                            \"period\":[\n",
    "                                {\"start\":start,\"end\":end}\n",
    "                            ]\n",
    "                        }))\n",
    "    with open(\"tmp.csv.zip\", \"wb\") as out:\n",
    "        out.write(res.content)\n",
    "    df = pd.read_csv(\"tmp.csv.zip\", compression=\"zip\", sep=\"\\t\", dtype=str)\n",
    "    dfs.append(df)"
   ]
  },
  {
   "cell_type": "code",
   "execution_count": 121,
   "id": "ee87b177",
   "metadata": {
    "ExecuteTime": {
     "end_time": "2022-04-11T10:55:29.867548Z",
     "start_time": "2022-04-11T10:55:29.861861Z"
    }
   },
   "outputs": [
    {
     "data": {
      "text/plain": [
       "{'napr,period,nastranapr,tnved,edizm,Stoim,Netto,Kol,Region,Region_s'}"
      ]
     },
     "execution_count": 121,
     "metadata": {},
     "output_type": "execute_result"
    }
   ],
   "source": [
    "# проверяем что все датафреймы содержат одинаковые поля\n",
    "set(map(lambda x: \",\".join(list(map(str, x.columns))), dfs))"
   ]
  },
  {
   "cell_type": "code",
   "execution_count": 119,
   "id": "3cd36005",
   "metadata": {
    "ExecuteTime": {
     "end_time": "2022-04-11T10:55:22.025178Z",
     "start_time": "2022-04-11T10:55:21.178594Z"
    }
   },
   "outputs": [
    {
     "data": {
      "text/html": [
       "<div>\n",
       "<style scoped>\n",
       "    .dataframe tbody tr th:only-of-type {\n",
       "        vertical-align: middle;\n",
       "    }\n",
       "\n",
       "    .dataframe tbody tr th {\n",
       "        vertical-align: top;\n",
       "    }\n",
       "\n",
       "    .dataframe thead th {\n",
       "        text-align: right;\n",
       "    }\n",
       "</style>\n",
       "<table border=\"1\" class=\"dataframe\">\n",
       "  <thead>\n",
       "    <tr style=\"text-align: right;\">\n",
       "      <th></th>\n",
       "      <th>napr</th>\n",
       "      <th>period</th>\n",
       "      <th>nastranapr</th>\n",
       "      <th>tnved</th>\n",
       "      <th>edizm</th>\n",
       "      <th>Stoim</th>\n",
       "      <th>Netto</th>\n",
       "      <th>Kol</th>\n",
       "      <th>Region</th>\n",
       "      <th>Region_s</th>\n",
       "    </tr>\n",
       "  </thead>\n",
       "  <tbody>\n",
       "  </tbody>\n",
       "</table>\n",
       "</div>"
      ],
      "text/plain": [
       "Empty DataFrame\n",
       "Columns: [napr, period, nastranapr, tnved, edizm, Stoim, Netto, Kol, Region, Region_s]\n",
       "Index: []"
      ]
     },
     "execution_count": 119,
     "metadata": {},
     "output_type": "execute_result"
    }
   ],
   "source": [
    "x = pd.concat(dfs)\n",
    "x[x.tnved.isnull()]"
   ]
  },
  {
   "cell_type": "code",
   "execution_count": 158,
   "id": "347d113b",
   "metadata": {
    "ExecuteTime": {
     "end_time": "2022-04-11T11:07:56.586625Z",
     "start_time": "2022-04-11T11:07:34.036229Z"
    }
   },
   "outputs": [
    {
     "name": "stdout",
     "output_type": "stream",
     "text": [
      "(2457039, 12) (2457039, 12)\n"
     ]
    },
    {
     "data": {
      "text/html": [
       "<div>\n",
       "<style scoped>\n",
       "    .dataframe tbody tr th:only-of-type {\n",
       "        vertical-align: middle;\n",
       "    }\n",
       "\n",
       "    .dataframe tbody tr th {\n",
       "        vertical-align: top;\n",
       "    }\n",
       "\n",
       "    .dataframe thead th {\n",
       "        text-align: right;\n",
       "    }\n",
       "</style>\n",
       "<table border=\"1\" class=\"dataframe\">\n",
       "  <thead>\n",
       "    <tr style=\"text-align: right;\">\n",
       "      <th></th>\n",
       "      <th>napr</th>\n",
       "      <th>period</th>\n",
       "      <th>nastranapr</th>\n",
       "      <th>tnved</th>\n",
       "      <th>edizm</th>\n",
       "      <th>Stoim</th>\n",
       "      <th>Netto</th>\n",
       "      <th>Kol</th>\n",
       "      <th>Region</th>\n",
       "      <th>Region_s</th>\n",
       "      <th>metric_name</th>\n",
       "      <th>tovar_name</th>\n",
       "    </tr>\n",
       "  </thead>\n",
       "  <tbody>\n",
       "    <tr>\n",
       "      <th>414031</th>\n",
       "      <td>ИМ</td>\n",
       "      <td>2019-07</td>\n",
       "      <td>AL</td>\n",
       "      <td>62</td>\n",
       "      <td>NaN</td>\n",
       "      <td>246096.76</td>\n",
       "      <td>1952.651</td>\n",
       "      <td>0</td>\n",
       "      <td>46000 - МОСКОВСКАЯ ОБЛАСТЬ</td>\n",
       "      <td>01-ЦЕНТРАЛЬНЫЙ ФЕДЕРАЛЬНЫЙ ОКРУГ</td>\n",
       "      <td>NaN</td>\n",
       "      <td>ПРЕДМЕТЫ ОДЕЖДЫ И ПРИНАДЛЕЖНОСТИ К ОДЕЖДЕ, КРО...</td>\n",
       "    </tr>\n",
       "    <tr>\n",
       "      <th>821720</th>\n",
       "      <td>ИМ</td>\n",
       "      <td>2020-01</td>\n",
       "      <td>EE</td>\n",
       "      <td>40</td>\n",
       "      <td>NaN</td>\n",
       "      <td>16951.38</td>\n",
       "      <td>87.417</td>\n",
       "      <td>0</td>\n",
       "      <td>45000 - ГОРОД МОСКВА СТОЛИЦА РОССИЙСКОЙ ФЕДЕРА...</td>\n",
       "      <td>01-ЦЕНТРАЛЬНЫЙ ФЕДЕРАЛЬНЫЙ ОКРУГ</td>\n",
       "      <td>NaN</td>\n",
       "      <td>КАУЧУК, РЕЗИНА И ИЗДЕЛИЯ ИЗ НИХ</td>\n",
       "    </tr>\n",
       "    <tr>\n",
       "      <th>1049406</th>\n",
       "      <td>ИМ</td>\n",
       "      <td>2020-05</td>\n",
       "      <td>BE</td>\n",
       "      <td>29</td>\n",
       "      <td>NaN</td>\n",
       "      <td>34.00</td>\n",
       "      <td>0.440</td>\n",
       "      <td>0</td>\n",
       "      <td>65000 - СВЕРДЛОВСКАЯ ОБЛАСТЬ</td>\n",
       "      <td>05-УРАЛЬСКИЙ ФЕДЕРАЛЬНЫЙ ОКРУГ</td>\n",
       "      <td>NaN</td>\n",
       "      <td>ОРГАНИЧЕСКИЕ ХИМИЧЕСКИЕ СОЕДИНЕНИЯ</td>\n",
       "    </tr>\n",
       "    <tr>\n",
       "      <th>215291</th>\n",
       "      <td>ЭК</td>\n",
       "      <td>2019-04</td>\n",
       "      <td>AB</td>\n",
       "      <td>34</td>\n",
       "      <td>NaN</td>\n",
       "      <td>7572.45</td>\n",
       "      <td>15875.230</td>\n",
       "      <td>0</td>\n",
       "      <td>79000 - РЕСПУБЛИКА АДЫГЕЯ (АДЫГЕЯ)</td>\n",
       "      <td>03-ЮЖНЫЙ ФЕДЕРАЛЬНЫЙ ОКРУГ</td>\n",
       "      <td>NaN</td>\n",
       "      <td>МЫЛО, ПОВЕРХНОСТНО-АКТИВНЫЕ ОРГАНИЧЕСКИЕ ВЕЩЕС...</td>\n",
       "    </tr>\n",
       "    <tr>\n",
       "      <th>689846</th>\n",
       "      <td>ИМ</td>\n",
       "      <td>2019-11</td>\n",
       "      <td>NO</td>\n",
       "      <td>48</td>\n",
       "      <td>NaN</td>\n",
       "      <td>1926.88</td>\n",
       "      <td>2.600</td>\n",
       "      <td>0</td>\n",
       "      <td>45000 - ГОРОД МОСКВА СТОЛИЦА РОССИЙСКОЙ ФЕДЕРА...</td>\n",
       "      <td>01-ЦЕНТРАЛЬНЫЙ ФЕДЕРАЛЬНЫЙ ОКРУГ</td>\n",
       "      <td>NaN</td>\n",
       "      <td>БУМАГА И КАРТОН; ИЗДЕЛИЯ ИЗ БУМАЖНОЙ МАССЫ, БУ...</td>\n",
       "    </tr>\n",
       "    <tr>\n",
       "      <th>1250363</th>\n",
       "      <td>ИМ</td>\n",
       "      <td>2020-08</td>\n",
       "      <td>CZ</td>\n",
       "      <td>54</td>\n",
       "      <td>NaN</td>\n",
       "      <td>36804.85</td>\n",
       "      <td>5787.200</td>\n",
       "      <td>0</td>\n",
       "      <td>66000 - СМОЛЕНСКАЯ ОБЛАСТЬ</td>\n",
       "      <td>01-ЦЕНТРАЛЬНЫЙ ФЕДЕРАЛЬНЫЙ ОКРУГ</td>\n",
       "      <td>NaN</td>\n",
       "      <td>ГРУППА 54 ХИМИЧЕСКИЕ НИТИ; ПЛОСКИЕ И АНАЛОГИЧН...</td>\n",
       "    </tr>\n",
       "    <tr>\n",
       "      <th>2118346</th>\n",
       "      <td>ЭК</td>\n",
       "      <td>2021-09</td>\n",
       "      <td>MN</td>\n",
       "      <td>16</td>\n",
       "      <td>NaN</td>\n",
       "      <td>228145.89</td>\n",
       "      <td>112521.220</td>\n",
       "      <td>0</td>\n",
       "      <td>81000 - РЕСПУБЛИКА БУРЯТИЯ</td>\n",
       "      <td>07-ДАЛЬНЕВОСТОЧНЫЙ ФЕДЕРАЛЬНЫЙ ОКРУГ</td>\n",
       "      <td>NaN</td>\n",
       "      <td>ГОТОВЫЕ ПРОДУКТЫ ИЗ МЯСА, РЫБЫ ИЛИ РАКООБРАЗНЫ...</td>\n",
       "    </tr>\n",
       "    <tr>\n",
       "      <th>686675</th>\n",
       "      <td>ИМ</td>\n",
       "      <td>2019-11</td>\n",
       "      <td>IE</td>\n",
       "      <td>32</td>\n",
       "      <td>NaN</td>\n",
       "      <td>216.23</td>\n",
       "      <td>0.011</td>\n",
       "      <td>0</td>\n",
       "      <td>41000 - ЛЕНИНГРАДСКАЯ ОБЛАСТЬ</td>\n",
       "      <td>02-СЕВЕРО-ЗАПАДНЫЙ ФЕДЕРАЛЬНЫЙ ОКРУГ</td>\n",
       "      <td>NaN</td>\n",
       "      <td>ЭКСТРАКТЫ ДУБИЛЬНЫЕ ИЛИ КРАСИЛЬНЫЕ; ТАННИНЫ И ...</td>\n",
       "    </tr>\n",
       "    <tr>\n",
       "      <th>41671</th>\n",
       "      <td>ЭК</td>\n",
       "      <td>2019-01</td>\n",
       "      <td>IL</td>\n",
       "      <td>19</td>\n",
       "      <td>NaN</td>\n",
       "      <td>1067.20</td>\n",
       "      <td>1064.800</td>\n",
       "      <td>0</td>\n",
       "      <td>75000 - ЧЕЛЯБИНСКАЯ ОБЛАСТЬ</td>\n",
       "      <td>05-УРАЛЬСКИЙ ФЕДЕРАЛЬНЫЙ ОКРУГ</td>\n",
       "      <td>NaN</td>\n",
       "      <td>ГОТОВЫЕ ПРОДУКТЫ ИЗ ЗЕРНА ЗЛАКОВ, МУКИ, КРАХМА...</td>\n",
       "    </tr>\n",
       "    <tr>\n",
       "      <th>815822</th>\n",
       "      <td>ИМ</td>\n",
       "      <td>2020-01</td>\n",
       "      <td>BY</td>\n",
       "      <td>55</td>\n",
       "      <td>NaN</td>\n",
       "      <td>51408.10</td>\n",
       "      <td>53718.893</td>\n",
       "      <td>0</td>\n",
       "      <td>66000 - СМОЛЕНСКАЯ ОБЛАСТЬ</td>\n",
       "      <td>01-ЦЕНТРАЛЬНЫЙ ФЕДЕРАЛЬНЫЙ ОКРУГ</td>\n",
       "      <td>NaN</td>\n",
       "      <td>ХИМИЧЕСКИЕ ВОЛОКНА</td>\n",
       "    </tr>\n",
       "    <tr>\n",
       "      <th>911667</th>\n",
       "      <td>ЭК</td>\n",
       "      <td>2020-03</td>\n",
       "      <td>KZ</td>\n",
       "      <td>10</td>\n",
       "      <td>NaN</td>\n",
       "      <td>29178.38</td>\n",
       "      <td>20009.000</td>\n",
       "      <td>0</td>\n",
       "      <td>83000 - КАБАРДИНО-БАЛКАРСКАЯ РЕСПУБЛИКА</td>\n",
       "      <td>08-СЕВЕРО-КАВКАЗСКИЙ ФЕДЕРАЛЬНЫЙ ОКРУГ</td>\n",
       "      <td>NaN</td>\n",
       "      <td>ЗЛАКИ</td>\n",
       "    </tr>\n",
       "    <tr>\n",
       "      <th>1475310</th>\n",
       "      <td>ЭК</td>\n",
       "      <td>2020-11</td>\n",
       "      <td>LT</td>\n",
       "      <td>83</td>\n",
       "      <td>NaN</td>\n",
       "      <td>73273.12</td>\n",
       "      <td>8425.481</td>\n",
       "      <td>0</td>\n",
       "      <td>45000 - ГОРОД МОСКВА СТОЛИЦА РОССИЙСКОЙ ФЕДЕРА...</td>\n",
       "      <td>01-ЦЕНТРАЛЬНЫЙ ФЕДЕРАЛЬНЫЙ ОКРУГ</td>\n",
       "      <td>NaN</td>\n",
       "      <td>ПРОЧИЕ ИЗДЕЛИЯ ИЗ НЕДРАГОЦЕННЫХ МЕТАЛЛОВ</td>\n",
       "    </tr>\n",
       "    <tr>\n",
       "      <th>243665</th>\n",
       "      <td>ИМ</td>\n",
       "      <td>2019-04</td>\n",
       "      <td>KZ</td>\n",
       "      <td>18</td>\n",
       "      <td>NaN</td>\n",
       "      <td>26322.28</td>\n",
       "      <td>9424.750</td>\n",
       "      <td>0</td>\n",
       "      <td>95000 - РЕСПУБЛИКА ХАКАСИЯ</td>\n",
       "      <td>06-СИБИРСКИЙ ФЕДЕРАЛЬНЫЙ ОКРУГ</td>\n",
       "      <td>NaN</td>\n",
       "      <td>КАКАО И ПРОДУКТЫ ИЗ НЕГО</td>\n",
       "    </tr>\n",
       "    <tr>\n",
       "      <th>1795773</th>\n",
       "      <td>ЭК</td>\n",
       "      <td>2021-04</td>\n",
       "      <td>MD</td>\n",
       "      <td>83</td>\n",
       "      <td>NaN</td>\n",
       "      <td>74.04</td>\n",
       "      <td>14.936</td>\n",
       "      <td>0</td>\n",
       "      <td>22000 - НИЖЕГОРОДСКАЯ ОБЛАСТЬ</td>\n",
       "      <td>04-ПРИВОЛЖСКИЙ ФЕДЕРАЛЬНЫЙ ОКРУГ</td>\n",
       "      <td>NaN</td>\n",
       "      <td>ПРОЧИЕ ИЗДЕЛИЯ ИЗ НЕДРАГОЦЕННЫХ МЕТАЛЛОВ</td>\n",
       "    </tr>\n",
       "    <tr>\n",
       "      <th>2350193</th>\n",
       "      <td>ЭК</td>\n",
       "      <td>2021-12</td>\n",
       "      <td>AM</td>\n",
       "      <td>34</td>\n",
       "      <td>NaN</td>\n",
       "      <td>435.98</td>\n",
       "      <td>189.192</td>\n",
       "      <td>0</td>\n",
       "      <td>60000 - РОСТОВСКАЯ ОБЛАСТЬ</td>\n",
       "      <td>03-ЮЖНЫЙ ФЕДЕРАЛЬНЫЙ ОКРУГ</td>\n",
       "      <td>NaN</td>\n",
       "      <td>МЫЛО, ПОВЕРХНОСТНО-АКТИВНЫЕ ОРГАНИЧЕСКИЕ ВЕЩЕС...</td>\n",
       "    </tr>\n",
       "    <tr>\n",
       "      <th>2010969</th>\n",
       "      <td>ИМ</td>\n",
       "      <td>2021-07</td>\n",
       "      <td>IN</td>\n",
       "      <td>85</td>\n",
       "      <td>NaN</td>\n",
       "      <td>306702.22</td>\n",
       "      <td>4561.062</td>\n",
       "      <td>0</td>\n",
       "      <td>73000 - УЛЬЯНОВСКАЯ ОБЛАСТЬ</td>\n",
       "      <td>04-ПРИВОЛЖСКИЙ ФЕДЕРАЛЬНЫЙ ОКРУГ</td>\n",
       "      <td>NaN</td>\n",
       "      <td>ЭЛЕКТРИЧЕСКИЕ МАШИНЫ И ОБОРУДОВАНИЕ, ИХ ЧАСТИ;...</td>\n",
       "    </tr>\n",
       "    <tr>\n",
       "      <th>329353</th>\n",
       "      <td>ИМ</td>\n",
       "      <td>2019-06</td>\n",
       "      <td>FR</td>\n",
       "      <td>94</td>\n",
       "      <td>NaN</td>\n",
       "      <td>20405.86</td>\n",
       "      <td>304.000</td>\n",
       "      <td>0</td>\n",
       "      <td>98000 - РЕСПУБЛИКА САХА (ЯКУТИЯ)</td>\n",
       "      <td>07-ДАЛЬНЕВОСТОЧНЫЙ ФЕДЕРАЛЬНЫЙ ОКРУГ</td>\n",
       "      <td>NaN</td>\n",
       "      <td>МЕБЕЛЬ; ПОСТЕЛЬНЫЕ ПРИНАДЛЕЖНОСТИ, МАТРАЦЫ, ОС...</td>\n",
       "    </tr>\n",
       "    <tr>\n",
       "      <th>866494</th>\n",
       "      <td>ИМ</td>\n",
       "      <td>2020-02</td>\n",
       "      <td>IT</td>\n",
       "      <td>56</td>\n",
       "      <td>NaN</td>\n",
       "      <td>375960.02</td>\n",
       "      <td>61270.825</td>\n",
       "      <td>0</td>\n",
       "      <td>45000 - ГОРОД МОСКВА СТОЛИЦА РОССИЙСКОЙ ФЕДЕРА...</td>\n",
       "      <td>01-ЦЕНТРАЛЬНЫЙ ФЕДЕРАЛЬНЫЙ ОКРУГ</td>\n",
       "      <td>NaN</td>\n",
       "      <td>ВАТА, ВОЙЛОК ИЛИ ФЕТР И НЕТКАНЫЕ МАТЕРИАЛЫ; СП...</td>\n",
       "    </tr>\n",
       "    <tr>\n",
       "      <th>375272</th>\n",
       "      <td>ИМ</td>\n",
       "      <td>2019-06</td>\n",
       "      <td>CN</td>\n",
       "      <td>12</td>\n",
       "      <td>NaN</td>\n",
       "      <td>267488.32</td>\n",
       "      <td>117968.200</td>\n",
       "      <td>0</td>\n",
       "      <td>69000 - ТОМСКАЯ ОБЛАСТЬ</td>\n",
       "      <td>06-СИБИРСКИЙ ФЕДЕРАЛЬНЫЙ ОКРУГ</td>\n",
       "      <td>NaN</td>\n",
       "      <td>МАСЛИЧНЫЕ СЕМЕНА И ПЛОДЫ; ПРОЧИЕ СЕМЕНА, ПЛОДЫ...</td>\n",
       "    </tr>\n",
       "    <tr>\n",
       "      <th>1537482</th>\n",
       "      <td>ЭК</td>\n",
       "      <td>2020-12</td>\n",
       "      <td>UA</td>\n",
       "      <td>42</td>\n",
       "      <td>NaN</td>\n",
       "      <td>4053.15</td>\n",
       "      <td>798.352</td>\n",
       "      <td>0</td>\n",
       "      <td>46000 - МОСКОВСКАЯ ОБЛАСТЬ</td>\n",
       "      <td>01-ЦЕНТРАЛЬНЫЙ ФЕДЕРАЛЬНЫЙ ОКРУГ</td>\n",
       "      <td>NaN</td>\n",
       "      <td>ИЗДЕЛИЯ ИЗ КОЖИ; ШОРНО-СЕДЕЛЬНЫЕ ИЗДЕЛИЯ И УПР...</td>\n",
       "    </tr>\n",
       "  </tbody>\n",
       "</table>\n",
       "</div>"
      ],
      "text/plain": [
       "        napr   period nastranapr tnved edizm      Stoim       Netto Kol  \\\n",
       "414031    ИМ  2019-07         AL    62   NaN  246096.76    1952.651   0   \n",
       "821720    ИМ  2020-01         EE    40   NaN   16951.38      87.417   0   \n",
       "1049406   ИМ  2020-05         BE    29   NaN      34.00       0.440   0   \n",
       "215291    ЭК  2019-04         AB    34   NaN    7572.45   15875.230   0   \n",
       "689846    ИМ  2019-11         NO    48   NaN    1926.88       2.600   0   \n",
       "1250363   ИМ  2020-08         CZ    54   NaN   36804.85    5787.200   0   \n",
       "2118346   ЭК  2021-09         MN    16   NaN  228145.89  112521.220   0   \n",
       "686675    ИМ  2019-11         IE    32   NaN     216.23       0.011   0   \n",
       "41671     ЭК  2019-01         IL    19   NaN    1067.20    1064.800   0   \n",
       "815822    ИМ  2020-01         BY    55   NaN   51408.10   53718.893   0   \n",
       "911667    ЭК  2020-03         KZ    10   NaN   29178.38   20009.000   0   \n",
       "1475310   ЭК  2020-11         LT    83   NaN   73273.12    8425.481   0   \n",
       "243665    ИМ  2019-04         KZ    18   NaN   26322.28    9424.750   0   \n",
       "1795773   ЭК  2021-04         MD    83   NaN      74.04      14.936   0   \n",
       "2350193   ЭК  2021-12         AM    34   NaN     435.98     189.192   0   \n",
       "2010969   ИМ  2021-07         IN    85   NaN  306702.22    4561.062   0   \n",
       "329353    ИМ  2019-06         FR    94   NaN   20405.86     304.000   0   \n",
       "866494    ИМ  2020-02         IT    56   NaN  375960.02   61270.825   0   \n",
       "375272    ИМ  2019-06         CN    12   NaN  267488.32  117968.200   0   \n",
       "1537482   ЭК  2020-12         UA    42   NaN    4053.15     798.352   0   \n",
       "\n",
       "                                                    Region  \\\n",
       "414031                          46000 - МОСКОВСКАЯ ОБЛАСТЬ   \n",
       "821720   45000 - ГОРОД МОСКВА СТОЛИЦА РОССИЙСКОЙ ФЕДЕРА...   \n",
       "1049406                       65000 - СВЕРДЛОВСКАЯ ОБЛАСТЬ   \n",
       "215291                  79000 - РЕСПУБЛИКА АДЫГЕЯ (АДЫГЕЯ)   \n",
       "689846   45000 - ГОРОД МОСКВА СТОЛИЦА РОССИЙСКОЙ ФЕДЕРА...   \n",
       "1250363                         66000 - СМОЛЕНСКАЯ ОБЛАСТЬ   \n",
       "2118346                         81000 - РЕСПУБЛИКА БУРЯТИЯ   \n",
       "686675                       41000 - ЛЕНИНГРАДСКАЯ ОБЛАСТЬ   \n",
       "41671                          75000 - ЧЕЛЯБИНСКАЯ ОБЛАСТЬ   \n",
       "815822                          66000 - СМОЛЕНСКАЯ ОБЛАСТЬ   \n",
       "911667             83000 - КАБАРДИНО-БАЛКАРСКАЯ РЕСПУБЛИКА   \n",
       "1475310  45000 - ГОРОД МОСКВА СТОЛИЦА РОССИЙСКОЙ ФЕДЕРА...   \n",
       "243665                          95000 - РЕСПУБЛИКА ХАКАСИЯ   \n",
       "1795773                      22000 - НИЖЕГОРОДСКАЯ ОБЛАСТЬ   \n",
       "2350193                         60000 - РОСТОВСКАЯ ОБЛАСТЬ   \n",
       "2010969                        73000 - УЛЬЯНОВСКАЯ ОБЛАСТЬ   \n",
       "329353                    98000 - РЕСПУБЛИКА САХА (ЯКУТИЯ)   \n",
       "866494   45000 - ГОРОД МОСКВА СТОЛИЦА РОССИЙСКОЙ ФЕДЕРА...   \n",
       "375272                             69000 - ТОМСКАЯ ОБЛАСТЬ   \n",
       "1537482                         46000 - МОСКОВСКАЯ ОБЛАСТЬ   \n",
       "\n",
       "                                       Region_s metric_name  \\\n",
       "414031         01-ЦЕНТРАЛЬНЫЙ ФЕДЕРАЛЬНЫЙ ОКРУГ         NaN   \n",
       "821720         01-ЦЕНТРАЛЬНЫЙ ФЕДЕРАЛЬНЫЙ ОКРУГ         NaN   \n",
       "1049406          05-УРАЛЬСКИЙ ФЕДЕРАЛЬНЫЙ ОКРУГ         NaN   \n",
       "215291               03-ЮЖНЫЙ ФЕДЕРАЛЬНЫЙ ОКРУГ         NaN   \n",
       "689846         01-ЦЕНТРАЛЬНЫЙ ФЕДЕРАЛЬНЫЙ ОКРУГ         NaN   \n",
       "1250363        01-ЦЕНТРАЛЬНЫЙ ФЕДЕРАЛЬНЫЙ ОКРУГ         NaN   \n",
       "2118346    07-ДАЛЬНЕВОСТОЧНЫЙ ФЕДЕРАЛЬНЫЙ ОКРУГ         NaN   \n",
       "686675     02-СЕВЕРО-ЗАПАДНЫЙ ФЕДЕРАЛЬНЫЙ ОКРУГ         NaN   \n",
       "41671            05-УРАЛЬСКИЙ ФЕДЕРАЛЬНЫЙ ОКРУГ         NaN   \n",
       "815822         01-ЦЕНТРАЛЬНЫЙ ФЕДЕРАЛЬНЫЙ ОКРУГ         NaN   \n",
       "911667   08-СЕВЕРО-КАВКАЗСКИЙ ФЕДЕРАЛЬНЫЙ ОКРУГ         NaN   \n",
       "1475310        01-ЦЕНТРАЛЬНЫЙ ФЕДЕРАЛЬНЫЙ ОКРУГ         NaN   \n",
       "243665           06-СИБИРСКИЙ ФЕДЕРАЛЬНЫЙ ОКРУГ         NaN   \n",
       "1795773        04-ПРИВОЛЖСКИЙ ФЕДЕРАЛЬНЫЙ ОКРУГ         NaN   \n",
       "2350193              03-ЮЖНЫЙ ФЕДЕРАЛЬНЫЙ ОКРУГ         NaN   \n",
       "2010969        04-ПРИВОЛЖСКИЙ ФЕДЕРАЛЬНЫЙ ОКРУГ         NaN   \n",
       "329353     07-ДАЛЬНЕВОСТОЧНЫЙ ФЕДЕРАЛЬНЫЙ ОКРУГ         NaN   \n",
       "866494         01-ЦЕНТРАЛЬНЫЙ ФЕДЕРАЛЬНЫЙ ОКРУГ         NaN   \n",
       "375272           06-СИБИРСКИЙ ФЕДЕРАЛЬНЫЙ ОКРУГ         NaN   \n",
       "1537482        01-ЦЕНТРАЛЬНЫЙ ФЕДЕРАЛЬНЫЙ ОКРУГ         NaN   \n",
       "\n",
       "                                                tovar_name  \n",
       "414031   ПРЕДМЕТЫ ОДЕЖДЫ И ПРИНАДЛЕЖНОСТИ К ОДЕЖДЕ, КРО...  \n",
       "821720                     КАУЧУК, РЕЗИНА И ИЗДЕЛИЯ ИЗ НИХ  \n",
       "1049406                 ОРГАНИЧЕСКИЕ ХИМИЧЕСКИЕ СОЕДИНЕНИЯ  \n",
       "215291   МЫЛО, ПОВЕРХНОСТНО-АКТИВНЫЕ ОРГАНИЧЕСКИЕ ВЕЩЕС...  \n",
       "689846   БУМАГА И КАРТОН; ИЗДЕЛИЯ ИЗ БУМАЖНОЙ МАССЫ, БУ...  \n",
       "1250363  ГРУППА 54 ХИМИЧЕСКИЕ НИТИ; ПЛОСКИЕ И АНАЛОГИЧН...  \n",
       "2118346  ГОТОВЫЕ ПРОДУКТЫ ИЗ МЯСА, РЫБЫ ИЛИ РАКООБРАЗНЫ...  \n",
       "686675   ЭКСТРАКТЫ ДУБИЛЬНЫЕ ИЛИ КРАСИЛЬНЫЕ; ТАННИНЫ И ...  \n",
       "41671    ГОТОВЫЕ ПРОДУКТЫ ИЗ ЗЕРНА ЗЛАКОВ, МУКИ, КРАХМА...  \n",
       "815822                                  ХИМИЧЕСКИЕ ВОЛОКНА  \n",
       "911667                                               ЗЛАКИ  \n",
       "1475310           ПРОЧИЕ ИЗДЕЛИЯ ИЗ НЕДРАГОЦЕННЫХ МЕТАЛЛОВ  \n",
       "243665                            КАКАО И ПРОДУКТЫ ИЗ НЕГО  \n",
       "1795773           ПРОЧИЕ ИЗДЕЛИЯ ИЗ НЕДРАГОЦЕННЫХ МЕТАЛЛОВ  \n",
       "2350193  МЫЛО, ПОВЕРХНОСТНО-АКТИВНЫЕ ОРГАНИЧЕСКИЕ ВЕЩЕС...  \n",
       "2010969  ЭЛЕКТРИЧЕСКИЕ МАШИНЫ И ОБОРУДОВАНИЕ, ИХ ЧАСТИ;...  \n",
       "329353   МЕБЕЛЬ; ПОСТЕЛЬНЫЕ ПРИНАДЛЕЖНОСТИ, МАТРАЦЫ, ОС...  \n",
       "866494   ВАТА, ВОЙЛОК ИЛИ ФЕТР И НЕТКАНЫЕ МАТЕРИАЛЫ; СП...  \n",
       "375272   МАСЛИЧНЫЕ СЕМЕНА И ПЛОДЫ; ПРОЧИЕ СЕМЕНА, ПЛОДЫ...  \n",
       "1537482  ИЗДЕЛИЯ ИЗ КОЖИ; ШОРНО-СЕДЕЛЬНЫЕ ИЗДЕЛИЯ И УПР...  "
      ]
     },
     "execution_count": 158,
     "metadata": {},
     "output_type": "execute_result"
    }
   ],
   "source": [
    "data = pd.concat(dfs).merge(metrics, on='edizm', how=\"left\").merge(nsitnved, on='tnved', how=\"left\")\n",
    "def fix_number(x):\n",
    "    return float(x.replace(\",\", \".\"))\n",
    "data['Stoim'] = data['Stoim'].map(fix_number)\n",
    "data['Netto'] = data['Netto'].map(fix_number)\n",
    "def fix_period(x):\n",
    "    m, y = x.split(\"/\")\n",
    "    return \"%s-%s\" % (y, m)\n",
    "data['period'] = data['period'].map(fix_period)\n",
    "print(data.shape, data.drop_duplicates().shape)\n",
    "data.to_csv(\"data/stat_customs_20220411.csv\", index=False)\n",
    "data.sample(n=20)"
   ]
  },
  {
   "cell_type": "code",
   "execution_count": 129,
   "id": "5f75e709",
   "metadata": {
    "ExecuteTime": {
     "end_time": "2022-04-11T10:57:15.070898Z",
     "start_time": "2022-04-11T10:57:14.179123Z"
    }
   },
   "outputs": [
    {
     "data": {
      "text/plain": [
       "((0, 12), (0, 12), (2436963, 12), (2436963, 12))"
      ]
     },
     "execution_count": 129,
     "metadata": {},
     "output_type": "execute_result"
    }
   ],
   "source": [
    "data[data.tnved.isnull()].shape, data[data.tovar_name.isnull()].shape, \\\n",
    "    data[data.edizm.isnull()].shape, data[data.metric_name.isnull()].shape"
   ]
  },
  {
   "cell_type": "code",
   "execution_count": 90,
   "id": "0f78cf94",
   "metadata": {
    "ExecuteTime": {
     "end_time": "2022-04-11T10:44:55.153841Z",
     "start_time": "2022-04-11T10:44:54.906886Z"
    }
   },
   "outputs": [
    {
     "data": {
      "text/plain": [
       "ИМ    1362143\n",
       "ЭК    1094896\n",
       "Name: napr, dtype: int64"
      ]
     },
     "execution_count": 90,
     "metadata": {},
     "output_type": "execute_result"
    }
   ],
   "source": [
    "data.napr.value_counts()"
   ]
  },
  {
   "cell_type": "code",
   "execution_count": 91,
   "id": "0fd313e8",
   "metadata": {
    "ExecuteTime": {
     "end_time": "2022-04-11T10:44:59.337048Z",
     "start_time": "2022-04-11T10:44:59.124494Z"
    }
   },
   "outputs": [
    {
     "data": {
      "text/plain": [
       "12/2021    74312\n",
       "04/2021    72972\n",
       "12/2020    71834\n",
       "03/2021    71693\n",
       "10/2021    71438\n",
       "06/2021    71158\n",
       "11/2021    70941\n",
       "07/2021    70415\n",
       "09/2021    69947\n",
       "10/2019    69937\n",
       "12/2019    69881\n",
       "10/2020    69640\n",
       "08/2021    68823\n",
       "04/2019    68692\n",
       "05/2021    68331\n",
       "11/2020    67958\n",
       "11/2019    67332\n",
       "09/2020    67269\n",
       "07/2019    67253\n",
       "03/2020    66709\n",
       "08/2019    66625\n",
       "09/2019    66368\n",
       "03/2019    66053\n",
       "07/2020    65916\n",
       "02/2020    65376\n",
       "02/2021    65150\n",
       "06/2019    65055\n",
       "08/2020    64927\n",
       "05/2019    64344\n",
       "06/2020    63783\n",
       "02/2019    63275\n",
       "01/2022    59877\n",
       "04/2020    59584\n",
       "05/2020    58232\n",
       "01/2020    56477\n",
       "01/2021    55339\n",
       "01/2019    54123\n",
       "Name: period, dtype: int64"
      ]
     },
     "execution_count": 91,
     "metadata": {},
     "output_type": "execute_result"
    }
   ],
   "source": [
    "data.period.value_counts()"
   ]
  },
  {
   "cell_type": "code",
   "execution_count": 157,
   "id": "b54f8366",
   "metadata": {
    "ExecuteTime": {
     "end_time": "2022-04-11T11:06:36.650093Z",
     "start_time": "2022-04-11T11:06:36.037837Z"
    }
   },
   "outputs": [
    {
     "name": "stderr",
     "output_type": "stream",
     "text": [
      "<ipython-input-157-99cca6bc9bee>:14: UserWarning: FixedFormatter should only be used together with FixedLocator\n",
      "  plot.set_yticklabels(ylabels)\n"
     ]
    },
    {
     "data": {
      "text/plain": [
       "<AxesSubplot:xlabel='period', ylabel='Stoim'>"
      ]
     },
     "execution_count": 157,
     "metadata": {},
     "output_type": "execute_result"
    },
    {
     "data": {
      "image/png": "[encoded data removed]",
      "text/plain": [
       "<Figure size 640x480 with 1 Axes>"
      ]
     },
     "metadata": {
      "needs_background": "light"
     },
     "output_type": "display_data"
    }
   ],
   "source": [
    "import seaborn as sns\n",
    "import matplotlib.pyplot as plt\n",
    "\n",
    "plt.figure(figsize=(8, 6), dpi=80)\n",
    "\n",
    "plot = sns.lineplot(data=pd.DataFrame(data.query(\"napr == 'ИМ' & nastranapr == 'UA'\").groupby(\"period\").Stoim.sum()),\n",
    "                    x=\"period\", y=\"Stoim\", label='UA import')\n",
    "plot = sns.lineplot(data=pd.DataFrame(data.query(\"napr == 'ЭК' & nastranapr == 'UA'\").groupby(\"period\").Stoim.sum()),\n",
    "                    x=\"period\", y=\"Stoim\", label='UA export')\n",
    "\n",
    "plt.setp(plot.get_xticklabels(), rotation=90)\n",
    "\n",
    "ylabels = ['{:,.0f}'.format(x) + 'млн. руб' for x in plot.get_yticks()/1000000]\n",
    "plot.set_yticklabels(ylabels)\n",
    "\n",
    "plot"
   ]
  },
  {
   "cell_type": "code",
   "execution_count": null,
   "id": "066fef81",
   "metadata": {},
   "outputs": [],
   "source": []
  }
 ],
 "metadata": {
  "kernelspec": {
   "display_name": "Python 3",
   "language": "python",
   "name": "python3"
  },
  "language_info": {
   "codemirror_mode": {
    "name": "ipython",
    "version": 3
   },
   "file_extension": ".py",
   "mimetype": "text/x-python",
   "name": "python",
   "nbconvert_exporter": "python",
   "pygments_lexer": "ipython3",
   "version": "3.8.5"
  }
 },
 "nbformat": 4,
 "nbformat_minor": 5
}
